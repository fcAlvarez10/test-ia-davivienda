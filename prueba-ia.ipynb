{
 "cells": [
  {
   "cell_type": "markdown",
   "id": "20277370-1930-44f6-b7d8-72b0e69fbcd7",
   "metadata": {},
   "source": [
    "# **Structure Solution Test**"
   ]
  },
  {
   "cell_type": "markdown",
   "id": "4e1aa17b-2132-4662-9937-29788c19e82c",
   "metadata": {},
   "source": [
    "## Tech Stack\n",
    "\n",
    "- Example 1\n",
    "- Example 2"
   ]
  },
  {
   "cell_type": "markdown",
   "id": "fb898901-8df3-4521-8327-c9c3802c6c14",
   "metadata": {},
   "source": [
    "## Overview"
   ]
  },
  {
   "cell_type": "markdown",
   "id": "aa801f32-3c0a-4d57-a8b7-c07f61aacb60",
   "metadata": {},
   "source": [
    "Taskifier presents an agent that helps manage task management for productivity optimization. "
   ]
  },
  {
   "cell_type": "markdown",
   "id": "55f64c39-0390-41b1-aaf7-1b5202ebd02a",
   "metadata": {},
   "source": [
    "## Motivation"
   ]
  },
  {
   "cell_type": "markdown",
   "id": "103fa201-7245-43d8-978e-7b0f118be502",
   "metadata": {},
   "source": [
    "In the world of workforce, procrastination and messy workflow is a common phenomenon, particularly with college students or non-administration level personnel in workplace. This is often due to the lack of clarity in objectives with the tasks given to them. Suppose a SWE in a startup was given a task to build a sign-in page for a web app. Things get messy and discouraging when the SWE was trying to start coding and asked questions like, \"should I build an auth server first or should I create the front end first?\". Those questions can branch off to smaller sub-questions, leaving the task puzzling and therefore driving procrastination. This phenomenon is highly replicable across different industries as well.\n",
    "\n",
    "This projects aim at assisting in the analysis and organization of tasks that users need to complete. It utilizes the LLM's ability to qualitatively dissect information for such purpose. It will involve some behavioral analysis that adjusts the workstyle according to underlying patterns of how users approach different tasks, and thereby return an optimal workflow suggestion."
   ]
  },
  {
   "cell_type": "markdown",
   "id": "14fa7202-8f59-4074-a302-5c5655b56f82",
   "metadata": {},
   "source": [
    "## Key Components"
   ]
  },
  {
   "cell_type": "markdown",
   "id": "48631a8e-f7e7-400a-9843-fd4d9c8439aa",
   "metadata": {},
   "source": []
  },
  {
   "cell_type": "markdown",
   "id": "4bec4b8e-1c8c-46f6-a467-335cb5229488",
   "metadata": {},
   "source": [
    "## Method Details"
   ]
  },
  {
   "cell_type": "markdown",
   "id": "7ac1c4d8-4919-4f3b-bc74-4a8ab256942c",
   "metadata": {},
   "source": []
  },
  {
   "cell_type": "markdown",
   "id": "b605bedd-00af-4b19-8f26-284ad8ab485e",
   "metadata": {},
   "source": [
    "## Flow Visualization"
   ]
  },
  {
   "cell_type": "markdown",
   "id": "62d4751e-3402-4d00-853e-e99c50e850de",
   "metadata": {},
   "source": [
    "## Conclusion"
   ]
  },
  {
   "cell_type": "markdown",
   "id": "e7349093-cdbf-4397-b046-e30e17562e06",
   "metadata": {},
   "source": []
  },
  {
   "cell_type": "markdown",
   "id": "5eb57a08-7bc6-4118-b4ba-547208295074",
   "metadata": {},
   "source": [
    "***"
   ]
  },
  {
   "cell_type": "markdown",
   "id": "a9ccde4d-60d8-4bd1-9e86-ec151337e77b",
   "metadata": {},
   "source": [
    "## Installation\n",
    "We will be using LangChain & LangGraph for building ensembles of agents & controlling their workflow."
   ]
  },
  {
   "cell_type": "code",
   "execution_count": null,
   "id": "0bc585cf-8d2d-4ef5-9b18-eb16c8bfb6a5",
   "metadata": {
    "scrolled": true
   },
   "outputs": [],
   "source": [
    "%%capture --no-stderr\n",
    "!pip install langchain langgraph tavily-python"
   ]
  },
  {
   "cell_type": "markdown",
   "id": "a0895fea-591e-4fcf-80f1-abe847e6cbb4",
   "metadata": {},
   "source": [
    "## Importations\n",
    "**Make sure you have the OpenAI and Gemini API Keys as part of your environment variables!**"
   ]
  },
  {
   "cell_type": "markdown",
   "id": "91a243be-c52d-4a58-a456-5e98f017168f",
   "metadata": {},
   "source": [
    "## Component Functions\n",
    "Define functions for...\n",
    "* Internet Query of Task Specs [retrieval]\n",
    "* Compare User Approach Preference vs Personas Approach Preference [filter approach]"
   ]
  },
  {
   "cell_type": "markdown",
   "id": "42d76397-f392-4ae4-a97c-a32110d50fb2",
   "metadata": {},
   "source": [
    "### **🚀🚀🚀🚀🚀🚀🚀🚀 Great! Now we can start the inference and see how the workflow performs! 🚀🚀🚀🚀🚀🚀🚀🚀**"
   ]
  },
  {
   "cell_type": "markdown",
   "id": "8926fb09-79df-4b4c-ad42-52bb35973c01",
   "metadata": {},
   "source": [
    "## Example\n",
    "This is an example where the user hopes to build a smoke detector that is futuristic in design and accessible for installation!"
   ]
  },
  {
   "cell_type": "code",
   "execution_count": null,
   "id": "26182e39-29fa-43fa-81e5-652ced006154",
   "metadata": {},
   "outputs": [
    {
     "name": "stdout",
     "output_type": "stream",
     "text": [
      "Task:\n",
      "\n",
      "\n",
      "    I want to build a smoke detector device! I am visioning it with futuristic design and hope to maximize the ability to install it anywhere. Perhaps keep it small and energy efficient for that purpose!\n",
      "    \n",
      "\n",
      "Style:\n",
      "\n",
      "content=\"The work history summary portrays a systematic and pragmatic work style. The individual demonstrates a preference for tackling tasks in a structured manner, starting with simpler challenges to build confidence and familiarity before progressing to more complex issues. This approach reflects a methodical mindset and a desire to establish a strong foundation before confronting difficulties.\\n\\nIn the context of their venture into the medical IT field, the individual shows a proactive attitude by prioritizing regulatory challenges from the FDA and EMA, indicating a preference for addressing potential obstacles early on to avoid complications later. This indicates a forward-thinking approach and an inclination to mitigate risks.\\n\\nWhen it comes to job applications, the individual prefers to avoid extensive, time-consuming responses, suggesting a more straightforward, efficiency-driven work style. This preference for brevity indicates a focus on practicality and a desire to streamline processes, potentially valuing results over exhaustive detail.\\n\\nOverall, the individual's work style can be characterized as organized, proactive, and efficiency-oriented, with an emphasis on tackling tasks in a logical sequence and streamlining efforts to achieve goals.\" additional_kwargs={'refusal': None} response_metadata={'token_usage': {'completion_tokens': 205, 'prompt_tokens': 211, 'total_tokens': 416, 'completion_tokens_details': {'accepted_prediction_tokens': 0, 'audio_tokens': 0, 'reasoning_tokens': 0, 'rejected_prediction_tokens': 0}, 'prompt_tokens_details': {'audio_tokens': 0, 'cached_tokens': 0}}, 'model_name': 'gpt-4o-mini-2024-07-18', 'system_fingerprint': 'fp_0ba0d124f1', 'finish_reason': 'stop', 'logprobs': None} id='run-b1bdb405-a180-4354-bb70-fb68da28538e-0' usage_metadata={'input_tokens': 211, 'output_tokens': 205, 'total_tokens': 416, 'input_token_details': {'audio': 0, 'cache_read': 0}, 'output_token_details': {'audio': 0, 'reasoning': 0}}\n",
      "\n",
      "Steps:\n",
      "\n",
      "==================================\u001b[1m Ai Message \u001b[0m==================================\n",
      "\n",
      "Here’s a structured plan to build a futuristic, energy-efficient smoke detector device, tailored to your systematic and pragmatic work style:\n",
      "\n",
      "### Step 1: Define the Requirements\n",
      "**Why It’s Needed:** Establishing clear requirements helps in laying a strong foundation for the project. It ensures all stakeholders have a unified vision and expectations are aligned.\n",
      "\n",
      "**What to Do:** \n",
      "- Gather information on necessary features (e.g., smoke detection technology, IoT integration, energy efficiency).\n",
      "- Outline specifications such as size, power source, and design aesthetics.\n",
      "\n",
      "**How It Considers the Work Style:** This step addresses your preference for a structured approach by starting with a clear understanding of what needs to be achieved before diving into complex design and engineering tasks.\n",
      "\n",
      "### Step 2: Research and Select Components\n",
      "**Why It’s Needed:** Choosing the right components is crucial for performance, energy efficiency, and integration capabilities.\n",
      "\n",
      "**What to Do:**\n",
      "- Investigate various sensor technologies (e.g., photoelectric, ionization).\n",
      "- Evaluate energy-efficient microcontrollers and power sources (e.g., rechargeable batteries, solar).\n",
      "- Explore sustainable materials for the casing (e.g., bamboo, recycled plastics).\n",
      "\n",
      "**How It Considers the Work Style:** This step allows you to systematically review available options and make informed decisions, ensuring that you avoid potential complications later in the design process.\n",
      "\n",
      "### Step 3: Create a Prototype Design\n",
      "**Why It’s Needed:** A prototype helps visualize the final product and identify any design flaws or areas for improvement.\n",
      "\n",
      "**What to Do:**\n",
      "- Use CAD software to create a 3D model of the smoke detector.\n",
      "- Ensure the design is compact and aesthetically futuristic.\n",
      "- Plan for modularity to allow for future upgrades and integrations.\n",
      "\n",
      "**How It Considers the Work Style:** Designing a prototype focuses on practicality and efficiency, allowing for straightforward adjustments and refinements before the full-scale development begins.\n",
      "\n",
      "### Step 4: Develop Software for Smart Integration\n",
      "**Why It’s Needed:** Software is essential for the smart functionality of the device, enabling features like remote notifications and data monitoring.\n",
      "\n",
      "**What to Do:**\n",
      "- Develop a mobile app or integrate with existing smart home systems.\n",
      "- Implement real-time monitoring and data analytics for energy management.\n",
      "- Ensure compliance with relevant regulations (e.g., safety standards).\n",
      "\n",
      "**How It Considers the Work Style:** Addressing software development early on mitigates risks associated with regulatory compliance and ensures that the device can seamlessly integrate with other smart home technologies.\n",
      "\n",
      "### Step 5: Build and Test the Prototype\n",
      "**Why It’s Needed:** Testing is critical to verify that the device functions as intended and meets safety standards.\n",
      "\n",
      "**What to Do:**\n",
      "- Assemble the prototype using the selected components.\n",
      "- Conduct thorough testing for smoke detection efficacy and energy consumption.\n",
      "- Gather feedback from potential users for further refinement.\n",
      "\n",
      "**How It Considers the Work Style:** This step emphasizes an organized approach to problem-solving, allowing you to identify and address issues in a logical and systematic manner.\n",
      "\n",
      "### Step 6: Refine the Design Based on Testing Feedback\n",
      "**Why It’s Needed:** Refinement ensures the final product meets user needs and performs optimally.\n",
      "\n",
      "**What to Do:**\n",
      "- Analyze the testing data and user feedback to identify areas for improvement.\n",
      "- Make necessary adjustments to the design and functionality.\n",
      "- Re-test the updated prototype.\n",
      "\n",
      "**How It Considers the Work Style:** This iterative process aligns with your efficiency-driven mindset, focusing on continuous improvement and ensuring that the final product is both effective and market-ready.\n",
      "\n",
      "### Step 7: Plan for Production and Market Launch\n",
      "**Why It’s Needed:** A well-thought-out plan for production and marketing is essential for successful product launch and scalability.\n",
      "\n",
      "**What to Do:**\n",
      "- Identify manufacturing partners and production processes that adhere to sustainable practices.\n",
      "- Develop a marketing strategy highlighting the energy-efficient and smart features of the smoke detector.\n",
      "- Set a timeline for launch and distribution.\n",
      "\n",
      "**How It Considers the Work Style:** This structured approach to planning emphasizes practicality and efficiency, ensuring that all aspects of the product’s lifecycle are considered and managed in an organized manner.\n",
      "\n",
      "### Step 8: Monitor and Iterate Post-Launch\n",
      "**Why It’s Needed:** Continuous monitoring post-launch helps in identifying any performance issues and user feedback for future improvements.\n",
      "\n",
      "**What to Do:**\n",
      "- Collect data on device performance and customer satisfaction.\n",
      "- Address any issues promptly and plan for future iterations of the product based on user input.\n",
      "\n",
      "**How It Considers the Work Style:** This proactive approach to monitoring reflects your preference for mitigating risks early, ensuring long-term success and user satisfaction.\n",
      "\n",
      "By following this structured plan, you will effectively manage the complexity of building a smart smoke detector while adhering to your organized, pragmatic work style.\n"
     ]
    }
   ],
   "source": [
    "query = \"\"\"\n",
    "    I want to build a smoke detector device! I am visioning it with futuristic design and hope to maximize the ability to install it anywhere. Perhaps keep it small and energy efficient for that purpose!\n",
    "    \"\"\"\n",
    "\n",
    "## Some history is being fed into the Agent! It helps the agent understand users' approach preferences!\n",
    "generated_plan = approach(task=query)\n",
    "\n",
    "\n",
    "print(f\"Task:\\n\")\n",
    "print(f\"{generated_plan['task']}\\n\")\n",
    "print(f\"Style:\\n\")\n",
    "print(f\"{generated_plan['style']}\\n\")\n",
    "print(f\"Steps:\\n\")\n",
    "generated_plan['plan'].pretty_print()"
   ]
  }
 ],
 "metadata": {
  "kernelspec": {
   "display_name": "lc-academy-venv",
   "language": "python",
   "name": "lc-academy-env"
  },
  "language_info": {
   "codemirror_mode": {
    "name": "ipython",
    "version": 3
   },
   "file_extension": ".py",
   "mimetype": "text/x-python",
   "name": "python",
   "nbconvert_exporter": "python",
   "pygments_lexer": "ipython3",
   "version": "3.10.12"
  }
 },
 "nbformat": 4,
 "nbformat_minor": 5
}
